{
  "nbformat": 4,
  "nbformat_minor": 0,
  "metadata": {
    "kernelspec": {
      "display_name": "Python 3",
      "language": "python",
      "name": "python3"
    },
    "language_info": {
      "codemirror_mode": {
        "name": "ipython",
        "version": 3
      },
      "file_extension": ".py",
      "mimetype": "text/x-python",
      "name": "python",
      "nbconvert_exporter": "python",
      "pygments_lexer": "ipython3",
      "version": "3.8.3"
    },
    "colab": {
      "name": "Capstone Project - The Battle of Neighborhoods (Week 1).ipynb",
      "provenance": [],
      "include_colab_link": true
    }
  },
  "cells": [
    {
      "cell_type": "markdown",
      "metadata": {
        "id": "view-in-github",
        "colab_type": "text"
      },
      "source": [
        "<a href=\"https://colab.research.google.com/github/ibrahimalabi7/Coursera_Capstone/blob/main/Capstone_Project_The_Battle_of_Neighborhoods_(Week_1).ipynb\" target=\"_parent\"><img src=\"https://colab.research.google.com/assets/colab-badge.svg\" alt=\"Open In Colab\"/></a>"
      ]
    },
    {
      "cell_type": "markdown",
      "metadata": {
        "id": "X3SNp7HhQlLy"
      },
      "source": [
        "# Capstone Project - The Battle of Neighborhoods (Week 1)"
      ]
    },
    {
      "cell_type": "markdown",
      "metadata": {
        "id": "Q2b9WXm_QlLz"
      },
      "source": [
        "# Introduction - Business Problem"
      ]
    },
    {
      "cell_type": "markdown",
      "metadata": {
        "id": "gq7JoFimQlLz"
      },
      "source": [
        "**1. A description of the problem and a discussion of the background.**"
      ]
    },
    {
      "cell_type": "markdown",
      "metadata": {
        "id": "8Mi49zGQQlLz"
      },
      "source": [
        "The problem:\n",
        "    Have you ever had the idea for meet new places and take your family to a new trip or unknow place and you had no idea about the places you can visit?"
      ]
    },
    {
      "cell_type": "markdown",
      "metadata": {
        "id": "Tcootg7wQlLz"
      },
      "source": [
        "Weel, the problem indeed is many people have no idea of the closest places based on a specific type of location, and it will be very useful an application than can tell us what places we can visti and show us the distance and location. How cool will be that? "
      ]
    },
    {
      "cell_type": "markdown",
      "metadata": {
        "id": "3sclmjgBQlLz"
      },
      "source": [
        "Background:\n",
        "    In my case, I have had that problem and I know many people is asking for it because is very natural that we my visit new places but we dont know the locations!!"
      ]
    },
    {
      "cell_type": "markdown",
      "metadata": {
        "id": "Vt-4SzKxQlLz"
      },
      "source": [
        "**2. A description of the data and how it will be used to solve the problem**"
      ]
    },
    {
      "cell_type": "markdown",
      "metadata": {
        "id": "4oaezfoYQlLz"
      },
      "source": [
        "Data required:\n",
        "    1. Location: Antiguo Cuscatlan, SV\n",
        "    2. Define search Criteria\n",
        "    3. Search for a specific venue category (This case, Mexican Food)\n",
        "    4. Data used: Only Foursquare locations"
      ]
    },
    {
      "cell_type": "markdown",
      "metadata": {
        "id": "THwYwG3CQlLz"
      },
      "source": [
        "Purpose:\n",
        "    The goal of this project is provide to any person the facility and ability to search and visualize the closest locations for one specific place.\n",
        "    It can be a business idea and the target market can be anyone since we have the power of decide what kind of location we want"
      ]
    },
    {
      "cell_type": "code",
      "metadata": {
        "id": "1yali8ccQlLz"
      },
      "source": [
        ""
      ],
      "execution_count": null,
      "outputs": []
    }
  ]
}